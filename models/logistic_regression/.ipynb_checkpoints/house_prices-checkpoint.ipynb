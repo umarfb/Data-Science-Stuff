{
 "cells": [
  {
   "cell_type": "markdown",
   "id": "92c955db-ce40-4de1-bb85-71a3d8ac1e46",
   "metadata": {},
   "source": [
    "## Logisitic regression for house price prediction\n",
    "Use logistic regression to predict house prices"
   ]
  },
  {
   "cell_type": "code",
   "execution_count": 2,
   "id": "df2a5888-7ae2-43c6-b6ac-e3939b878a6d",
   "metadata": {},
   "outputs": [],
   "source": [
    "import pandas as pd\n",
    "import numpy as np"
   ]
  },
  {
   "cell_type": "code",
   "execution_count": 4,
   "id": "b5bf33ff-7c43-4139-ab97-1e7c609af5d9",
   "metadata": {},
   "outputs": [
    {
     "name": "stdout",
     "output_type": "stream",
     "text": [
      "No. of training samples:  1460\n"
     ]
    }
   ],
   "source": [
    "# Load house price data\n",
    "data_path = '../../data/house_prices/'\n",
    "trainset = pd.read_csv(data_path + 'train.csv', low_memory=False)\n",
    "\n",
    "print('No. of training samples: ', len(trainset))"
   ]
  },
  {
   "cell_type": "code",
   "execution_count": 6,
   "id": "0ce70a19-a8b9-4acf-8870-dbff7faffe8a",
   "metadata": {},
   "outputs": [],
   "source": [
    "# Get list of numerical features to use\n",
    "num_features = []\n",
    "with open('../../data/house_prices/num_features_0.txt', 'r') as fp:\n",
    "    for item in fp:\n",
    "        num_features.append(item)\n",
    "\n",
    "num_features = [x.strip('\\n') for x in num_features]\n",
    "num_features_id = num_features.copy()\n",
    "num_features_id.append('Id')"
   ]
  },
  {
   "cell_type": "code",
   "execution_count": 7,
   "id": "543525bc-ad28-48a7-9a06-00e64a578a71",
   "metadata": {},
   "outputs": [
    {
     "name": "stdout",
     "output_type": "stream",
     "text": [
      "No. of houses remaining in training set:  1121\n"
     ]
    }
   ],
   "source": [
    "# Remove nans in training set\n",
    "trainset_dropna = trainset[num_features_id].dropna()\n",
    "print('No. of houses remaining in training set: ', len(trainset_dropna))"
   ]
  },
  {
   "cell_type": "code",
   "execution_count": 8,
   "id": "c4034f51-6a7f-49ff-96dd-c85d508edd15",
   "metadata": {},
   "outputs": [
    {
     "name": "stdout",
     "output_type": "stream",
     "text": [
      "No. of features:  30\n"
     ]
    }
   ],
   "source": [
    "# Split data into features and label (price)\n",
    "Xtrain = trainset_dropna[num_features]\n",
    "ytrain = trainset.iloc[trainset_dropna.index.values]['SalePrice']\n",
    "\n",
    "print('No. of features: ', len(Xtrain.columns))"
   ]
  },
  {
   "cell_type": "code",
   "execution_count": 13,
   "id": "d631e806-f7dd-4e8f-9224-7d75d59fae92",
   "metadata": {},
   "outputs": [],
   "source": [
    "# Use scikit learn logistic regression\n",
    "from sklearn.linear_model import LogisticRegression\n",
    "\n",
    "# Fit linear regression model\n",
    "log_reg = LogisticRegression(max_iter=1000, solver='liblinear').fit(X=Xtrain.values, y=ytrain.values)"
   ]
  },
  {
   "cell_type": "code",
   "execution_count": 16,
   "id": "a247ecad-7cf1-4464-92ad-47601e77b644",
   "metadata": {},
   "outputs": [
    {
     "name": "stdout",
     "output_type": "stream",
     "text": [
      "R**2 score:  0.9554964625251527\n"
     ]
    }
   ],
   "source": [
    "from sklearn.metrics import r2_score\n",
    "\n",
    "# Use linear regression model to make prediction\n",
    "ytrain_pred = log_reg.predict(Xtrain)\n",
    "\n",
    "# Get metrics for training set\n",
    "r2 = r2_score(ytrain, ytrain_pred)\n",
    "print('R**2 score: ', r2)"
   ]
  },
  {
   "cell_type": "code",
   "execution_count": 18,
   "id": "2e4f10c4-4184-45cc-b5b1-87defd48c5a7",
   "metadata": {},
   "outputs": [
    {
     "data": {
      "image/png": "[encoded data removed]",
      "text/plain": [
       "<Figure size 432x360 with 1 Axes>"
      ]
     },
     "metadata": {
      "needs_background": "light"
     },
     "output_type": "display_data"
    }
   ],
   "source": [
    "import matplotlib.pyplot as plt\n",
    "\n",
    "plt.figure(figsize=(6,5))\n",
    "plt.scatter(ytrain, ytrain_pred)\n",
    "plt.xlabel('True house price', fontsize=12)\n",
    "plt.ylabel('Predicted house price', fontsize=12)\n",
    "plt.title('Logistic regression ($R^2={:.3f}$)'.format(r2), fontsize=16)\n",
    "\n",
    "plt.savefig('house_prices_logistic_regression.png', format='png', dpi=100, bbox_inches='tight', facecolor='w')\n",
    "plt.show()"
   ]
  }
 ],
 "metadata": {
  "kernelspec": {
   "display_name": "Python 3 (ipykernel)",
   "language": "python",
   "name": "python3"
  },
  "language_info": {
   "codemirror_mode": {
    "name": "ipython",
    "version": 3
   },
   "file_extension": ".py",
   "mimetype": "text/x-python",
   "name": "python",
   "nbconvert_exporter": "python",
   "pygments_lexer": "ipython3",
   "version": "3.8.10"
  }
 },
 "nbformat": 4,
 "nbformat_minor": 5
}
