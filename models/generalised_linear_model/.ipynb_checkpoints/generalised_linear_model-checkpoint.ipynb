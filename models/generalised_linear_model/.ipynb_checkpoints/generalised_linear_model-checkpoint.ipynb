{
 "cells": [
  {
   "cell_type": "markdown",
   "id": "8bc66a3c-0f09-4643-8810-06db245979e0",
   "metadata": {},
   "source": [
    "## Generalised linear model for house price prediction\n",
    "Use a generalised linear model with a poisson distribution for house price prediction"
   ]
  },
  {
   "cell_type": "code",
   "execution_count": 1,
   "id": "10f8a4cd-5e6e-45ab-beca-b8f792c011be",
   "metadata": {},
   "outputs": [],
   "source": [
    "import pandas as pd\n",
    "import numpy as np"
   ]
  },
  {
   "cell_type": "code",
   "execution_count": 2,
   "id": "4eaa64ed-131c-4128-ae81-f846f2606a63",
   "metadata": {},
   "outputs": [
    {
     "name": "stdout",
     "output_type": "stream",
     "text": [
      "No. of training samples:  1460\n",
      "No. of houses remaining in training set:  1121\n",
      "No. of features:  30\n"
     ]
    }
   ],
   "source": [
    "# Load house price data\n",
    "data_path = '../../data/house_prices/'\n",
    "trainset = pd.read_csv(data_path + 'train.csv', low_memory=False)\n",
    "\n",
    "print('No. of training samples: ', len(trainset))\n",
    "\n",
    "# Get list of numerical features to use\n",
    "num_features = []\n",
    "with open('../../data/house_prices/num_features_0.txt', 'r') as fp:\n",
    "    for item in fp:\n",
    "        num_features.append(item)\n",
    "\n",
    "num_features = [x.strip('\\n') for x in num_features]\n",
    "num_features_id = num_features.copy()\n",
    "num_features_id.append('Id')\n",
    "\n",
    "# Remove nans in training set\n",
    "trainset_dropna = trainset[num_features_id].dropna()\n",
    "print('No. of houses remaining in training set: ', len(trainset_dropna))\n",
    "\n",
    "# Split data into features and label (price)\n",
    "Xtrain = trainset_dropna[num_features]\n",
    "ytrain = trainset.iloc[trainset_dropna.index.values]['SalePrice']\n",
    "\n",
    "print('No. of features: ', len(Xtrain.columns))"
   ]
  },
  {
   "cell_type": "code",
   "execution_count": 12,
   "id": "99e0faac-47b7-4d47-aae1-a48598662534",
   "metadata": {},
   "outputs": [],
   "source": [
    "# Use scikit PoissonRegressor (GLM)\n",
    "from sklearn.linear_model import PoissonRegressor\n",
    "from sklearn.preprocessing import StandardScaler\n",
    "\n",
    "# Scale the data\n",
    "scaler = StandardScaler()\n",
    "scaler.fit(Xtrain)\n",
    "Xtrain_scaled = scaler.transform(Xtrain)\n",
    "\n",
    "# Fit GLM\n",
    "glm = PoissonRegressor(max_iter=1000).fit(X=Xtrain_scaled, y=ytrain.values)"
   ]
  },
  {
   "cell_type": "code",
   "execution_count": null,
   "id": "9558f8ba-c406-4a0f-b38a-a50f9f0a5171",
   "metadata": {},
   "outputs": [],
   "source": []
  },
  {
   "cell_type": "code",
   "execution_count": 11,
   "id": "bc3f3837-5563-4eef-ab13-ed33d0efd1d9",
   "metadata": {},
   "outputs": [
    {
     "data": {
      "text/plain": [
       "array([[ 0.09229529, -0.23357027, -0.20588518, ..., -0.35662187,\n",
       "        -1.61534509,  0.15308355],\n",
       "       [-0.86569565,  0.38483378, -0.0643585 , ..., -0.35662187,\n",
       "        -0.49871497, -0.59629052],\n",
       "       [ 0.09229529, -0.10988946,  0.13870153, ..., -0.35662187,\n",
       "         0.99012519,  0.15308355],\n",
       "       ...,\n",
       "       [ 0.33179303, -0.19234334, -0.13302971, ..., -0.35662187,\n",
       "        -0.49871497,  1.65183171],\n",
       "       [-0.86569565, -0.10988946, -0.04995969, ...,  1.47180795,\n",
       "        -0.87092501,  1.65183171],\n",
       "       [-0.86569565,  0.17869909, -0.02288502, ..., -0.35662187,\n",
       "        -0.12650493,  0.15308355]])"
      ]
     },
     "execution_count": 11,
     "metadata": {},
     "output_type": "execute_result"
    }
   ],
   "source": [
    "Xtrain_scaled"
   ]
  }
 ],
 "metadata": {
  "kernelspec": {
   "display_name": "Python 3 (ipykernel)",
   "language": "python",
   "name": "python3"
  },
  "language_info": {
   "codemirror_mode": {
    "name": "ipython",
    "version": 3
   },
   "file_extension": ".py",
   "mimetype": "text/x-python",
   "name": "python",
   "nbconvert_exporter": "python",
   "pygments_lexer": "ipython3",
   "version": "3.8.10"
  }
 },
 "nbformat": 4,
 "nbformat_minor": 5
}
