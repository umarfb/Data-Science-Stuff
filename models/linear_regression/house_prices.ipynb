{
 "cells": [
  {
   "cell_type": "markdown",
   "id": "7273dec5-7a7c-4155-9985-1481cf3cd536",
   "metadata": {},
   "source": [
    "## Linear Regression for house price prediction\n",
    "\n",
    "Use a multivariate linear regression model to predict house prices"
   ]
  },
  {
   "cell_type": "code",
   "execution_count": 14,
   "id": "aecebce5-0e79-480c-8aac-23575b873585",
   "metadata": {},
   "outputs": [],
   "source": [
    "import pandas as pd\n",
    "import numpy as np"
   ]
  },
  {
   "cell_type": "code",
   "execution_count": 51,
   "id": "1e0e8679-c6e7-44be-bf82-81e2326edcb4",
   "metadata": {},
   "outputs": [
    {
     "name": "stdout",
     "output_type": "stream",
     "text": [
      "No. of training samples:  1460\n",
      "No. of test samples:  1459\n"
     ]
    }
   ],
   "source": [
    "# Load train and test data\n",
    "data_path = '../data/house_prices/'\n",
    "trainset = pd.read_csv(data_path + 'train.csv', low_memory=False)\n",
    "testset = pd.read_csv(data_path + 'test.csv', low_memory=False)\n",
    "\n",
    "print('No. of training samples: ', len(trainset))\n",
    "print('No. of test samples: ', len(testset))"
   ]
  },
  {
   "cell_type": "code",
   "execution_count": 61,
   "id": "68a3f3a2-022e-462b-9853-1a63d284d566",
   "metadata": {},
   "outputs": [],
   "source": [
    "# Get list of numerical features to use\n",
    "\n",
    "num_features = []\n",
    "with open('../data/house_prices/num_features_0.txt', 'r') as fp:\n",
    "    for item in fp:\n",
    "        num_features.append(item)\n",
    "\n",
    "num_features = [x.strip('\\n') for x in num_features]\n",
    "num_features_id = num_features.copy()\n",
    "num_features_id.append('Id')"
   ]
  },
  {
   "cell_type": "code",
   "execution_count": 128,
   "id": "5938409f-92cc-4da8-8310-1d048af3ccfb",
   "metadata": {},
   "outputs": [
    {
     "name": "stdout",
     "output_type": "stream",
     "text": [
      "No. of houses remaining in training set:  1121\n",
      "No. of houses remaining in test set:  1146\n"
     ]
    }
   ],
   "source": [
    "# Remove nans in training set\n",
    "trainset_dropna = trainset[num_features_id].dropna()\n",
    "print('No. of houses remaining in training set: ', len(trainset_dropna))\n",
    "\n",
    "# Remove nans in test set\n",
    "testset_dropna = testset[num_features_id].dropna()\n",
    "print('No. of houses remaining in test set: ', len(testset_dropna))"
   ]
  },
  {
   "cell_type": "code",
   "execution_count": 131,
   "id": "c8d02d6b-01e6-4aa2-ac89-df4f88f9f2c8",
   "metadata": {},
   "outputs": [
    {
     "name": "stdout",
     "output_type": "stream",
     "text": [
      "No. of features:  30\n"
     ]
    }
   ],
   "source": [
    "# Split data into features and label (price)\n",
    "Xtrain = trainset_dropna[num_features]\n",
    "ytrain = trainset.iloc[trainset_dropna.index.values]['SalePrice']\n",
    "\n",
    "Xtest = testset_dropna[num_features]\n",
    "#ytest = testset.iloc[testset_dropna.index.values]['SalePrice']\n",
    "\n",
    "print('No. of features: ', len(Xtrain.columns))"
   ]
  },
  {
   "cell_type": "markdown",
   "id": "d2f2bc03-4721-4a03-837f-67f744eaa0e8",
   "metadata": {},
   "source": [
    "Use `scikit-learn` linear regression"
   ]
  },
  {
   "cell_type": "code",
   "execution_count": 110,
   "id": "080b9104-bfbe-4ccb-87bf-3081c2348aac",
   "metadata": {},
   "outputs": [],
   "source": [
    "from sklearn.linear_model import LinearRegression\n",
    "\n",
    "# Fit linear regression model\n",
    "lin_reg = LinearRegression().fit(X=Xtrain.values, y=ytrain.values)"
   ]
  },
  {
   "cell_type": "code",
   "execution_count": 117,
   "id": "7cb19dea-34e3-4e6e-ba2c-d0e4afce0fd5",
   "metadata": {},
   "outputs": [
    {
     "data": {
      "text/plain": [
       "array([[208500],\n",
       "       [181500],\n",
       "       [223500],\n",
       "       ...,\n",
       "       [266500],\n",
       "       [142125],\n",
       "       [147500]])"
      ]
     },
     "execution_count": 117,
     "metadata": {},
     "output_type": "execute_result"
    }
   ],
   "source": [
    "ytrain.values.reshape(-1,1)"
   ]
  },
  {
   "cell_type": "code",
   "execution_count": 127,
   "id": "592c0be8-eeee-42ff-aa16-989f83caf299",
   "metadata": {},
   "outputs": [
    {
     "name": "stdout",
     "output_type": "stream",
     "text": [
      "R**2 score:  0.8072728457857207\n"
     ]
    }
   ],
   "source": [
    "from sklearn.metrics import r2_score\n",
    "\n",
    "# Use linear regression model to make prediction\n",
    "ytrain_pred = lin_reg.predict(Xtrain)\n",
    "\n",
    "# Get metrics for training set\n",
    "print('R**2 score: ', r2_score(ytrain, ytrain_pred))"
   ]
  },
  {
   "cell_type": "code",
   "execution_count": 146,
   "id": "c716bf07-bc84-4f3f-9597-203f0eaaa02b",
   "metadata": {},
   "outputs": [
    {
     "data": {
      "image/png": "[encoded data removed]",
      "text/plain": [
       "<Figure size 432x360 with 1 Axes>"
      ]
     },
     "metadata": {
      "needs_background": "light"
     },
     "output_type": "display_data"
    }
   ],
   "source": [
    "import matplotlib.pyplot as plt\n",
    "\n",
    "plt.figure(figsize=(6,5))\n",
    "plt.scatter(ytrain, ytrain_pred)\n",
    "plt.xlabel('True house price', fontsize=12)\n",
    "plt.ylabel('Predicted house price', fontsize=12)\n",
    "plt.title('Linear regression ($R^2=0.807$)', fontsize=16)\n",
    "\n",
    "plt.savefig('linear_regression/house_prices_linear_regression.png', format='png', dpi=100, bbox_inches='tight', facecolor='w')\n",
    "plt.show()"
   ]
  }
 ],
 "metadata": {
  "kernelspec": {
   "display_name": "Python 3 (ipykernel)",
   "language": "python",
   "name": "python3"
  },
  "language_info": {
   "codemirror_mode": {
    "name": "ipython",
    "version": 3
   },
   "file_extension": ".py",
   "mimetype": "text/x-python",
   "name": "python",
   "nbconvert_exporter": "python",
   "pygments_lexer": "ipython3",
   "version": "3.8.10"
  }
 },
 "nbformat": 4,
 "nbformat_minor": 5
}
