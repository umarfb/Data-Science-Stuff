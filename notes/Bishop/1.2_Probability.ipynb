{
 "cells": [
  {
   "cell_type": "markdown",
   "id": "a9520939-fbda-400b-bf22-ef634bf5a112",
   "metadata": {},
   "source": [
    "## Probability Theory\n",
    "\n",
    "Probability theory provides a consistent framework for the quantification and manipulation of uncertainty.\n",
    "\n",
    "Consider two random variables $X$ and $Y$. Suppose that $X$ can take any of the values $x_i$ where $i=1,...,M$ and $Y$ can take the values $y_j$ where $j=1,...,L$. Consider a total of $N$ trials in which we sample both $X$ and $Y$, and let the number of such trials in which $X=x_i$ and $Y=y_j$ be $n_{ij}$. Also let the number of trials in which $X$ takes the value $x_i$ (irrespective of the value $Y$ takes) be denoted by $c_i$, and similarly let the number of trials in which $Y$ takes the value $y_j$ be denoted by $r_j$.\n",
    "\n",
    "The probability that $X$ will take the value $x_i$ and $Y$ will take the value $y_j$ is written $p(X=x_i, Y=y_j)$ and is called the *joint* probability of $X=x_i$ and $Y=y_j$, and can be expressed as\n",
    "$$\n",
    "p(X=x_i, Y=y_j)=\\frac{n_{ij}}{N}\n",
    "$$\n",
    "where we implicitly consider the limit $N\\rightarrow \\infty$"
   ]
  },
  {
   "cell_type": "markdown",
   "id": "9daae78d-6dbd-43d5-b253-672165b8e742",
   "metadata": {},
   "source": [
    "The probability that $X$ takes the value $x_i$ irrespective of the value of $Y$ is written as $p(X=x_i)$ and is given by\n",
    "$$\n",
    "p(X=x_i)=\\frac{c_i}{N}\n",
    "$$\n",
    "Since this is independent of the value of $Y$, we have $c_i=\\sum_j n_{ij}$ and\n",
    "$$\n",
    "p(X=x_i)=\\sum^L_{j=1}p(X=x_i, Y=y_j)\n",
    "$$\n",
    "which is the *sum rule* of probability. $p(X=x_i)$ is sometimes called the *marginal* probability, because it is obtained by marginalising, or summing out, the other variables."
   ]
  },
  {
   "cell_type": "markdown",
   "id": "ca3dc769-7e1f-4c94-8af3-04ad055bf8fc",
   "metadata": {},
   "source": [
    "If we consider only the instances for which $X=x_i$, then the fraction of such instances for which $Y=y_j$ is written $p(Y=y_j\\vert X=x_i)$ and is called the *conditional* probability of $Y=j_j$ given $X=x_i$, and is given by\n",
    "$$\n",
    "p(Y=y_j\\vert X=x_i)=\\frac{n_{ij}}{c_i}\n",
    "$$\n",
    "We can derive the following relationship\n",
    "$$\n",
    "p(X=x_i,Y=y_j) = \\frac{n_{ij}}{N} = \\frac{n_{ij}}{c_i}\\cdot\\frac{c_i}{N} \\\\\n",
    "=p(Y=y_j\\vert X=x_i)p(X=x_i)\n",
    "$$\n",
    "which is the *product rule* of probability."
   ]
  },
  {
   "cell_type": "markdown",
   "id": "617ae066-df45-4ba1-b584-b9bbe78ea1e6",
   "metadata": {},
   "source": [
    "### The Rules of Probability\n",
    "\n",
    "**sum rule**:\n",
    "$$\n",
    "p(X) = \\sum^{}_Y p(X,Y)\n",
    "$$\n",
    "**product rule**\n",
    "$$\n",
    "p(X,Y) = p(Y\\vert X)p(X)\n",
    "$$"
   ]
  },
  {
   "cell_type": "markdown",
   "id": "f3543be1-ae1f-49f7-8557-ad9778ed6546",
   "metadata": {},
   "source": [
    "From the product rule, and the symmetry property $p(X,Y)=p(Y,X)$, we obtain the following relationship between conditional probabilities\n",
    "$$\n",
    "p(Y\\vert X)=\\frac{p(X\\vert Y)p(Y)}{p(X)}\n",
    "$$\n",
    "which is called *Bayes' theorem*. Using the sum rule, the denominator in Bayes' theorem can be expressed in terms of quantities appearing in the numerator\n",
    "$$\n",
    "p(X)=\\sum^{}_Y p(X\\vert Y)p(Y)\n",
    "$$\n",
    "We can view the denominator in Bayes' theorem as being the normalization constant required to ensure that the sum of the conditional probability on the left-hand side in the definition of Bayes' theorem over all values of $Y$ equals one."
   ]
  }
 ],
 "metadata": {
  "kernelspec": {
   "display_name": "Python 3 (ipykernel)",
   "language": "python",
   "name": "python3"
  },
  "language_info": {
   "codemirror_mode": {
    "name": "ipython",
    "version": 3
   },
   "file_extension": ".py",
   "mimetype": "text/x-python",
   "name": "python",
   "nbconvert_exporter": "python",
   "pygments_lexer": "ipython3",
   "version": "3.8.10"
  }
 },
 "nbformat": 4,
 "nbformat_minor": 5
}
