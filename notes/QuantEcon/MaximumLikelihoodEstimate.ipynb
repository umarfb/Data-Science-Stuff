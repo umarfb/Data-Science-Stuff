{
 "cells": [
  {
   "cell_type": "markdown",
   "id": "d40c08fb-6a03-4587-99ff-b987654cb88b",
   "metadata": {},
   "source": [
    "Refer to https://python.quantecon.org/mle.html"
   ]
  }
 ],
 "metadata": {
  "kernelspec": {
   "display_name": "Python 3 (ipykernel)",
   "language": "python",
   "name": "python3"
  },
  "language_info": {
   "codemirror_mode": {
    "name": "ipython",
    "version": 3
   },
   "file_extension": ".py",
   "mimetype": "text/x-python",
   "name": "python",
   "nbconvert_exporter": "python",
   "pygments_lexer": "ipython3",
   "version": "3.8.10"
  }
 },
 "nbformat": 4,
 "nbformat_minor": 5
}
